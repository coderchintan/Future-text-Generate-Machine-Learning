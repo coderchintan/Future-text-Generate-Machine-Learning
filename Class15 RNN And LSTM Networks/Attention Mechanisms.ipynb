{
 "cells": [
  {
   "cell_type": "markdown",
   "metadata": {},
   "source": [
    "http://www.wildml.com/2016/01/attention-and-memory-in-deep-learning-and-nlp/"
   ]
  },
  {
   "cell_type": "code",
   "execution_count": 1,
   "metadata": {},
   "outputs": [],
   "source": [
    "import numpy as np\n",
    "import torch\n",
    "import torch.nn as nn\n",
    "import torch.nn.functional as F\n",
    "import pandas as pd\n",
    "import seaborn as sns\n",
    "\n",
    "from torch.autograd import Variable\n",
    "from matplotlib import pyplot as plt\n",
    "%matplotlib inline\n"
   ]
  },
  {
   "cell_type": "code",
   "execution_count": 19,
   "metadata": {},
   "outputs": [],
   "source": [
    "def generate_data(N, dim=32, attention_col=1):\n",
    "    x = np.random.standard_normal(size=(N, dim))\n",
    "    y = np.random.randint(low=0, high=3, size=(N, 1))\n",
    "    x[:, attention_col] = y[:, 0]\n",
    "    return x, y"
   ]
  },
  {
   "cell_type": "code",
   "execution_count": 20,
   "metadata": {},
   "outputs": [],
   "source": [
    "class Net(nn.Module):\n",
    "    def __init__(self, ndim=32):\n",
    "        super(Net, self).__init__()\n",
    "        self.attention = nn.Linear(ndim, ndim)\n",
    "        self.out = nn.Linear(ndim, 1)\n",
    "    \n",
    "    def attn(self, x):\n",
    "        p = F.softmax(self.attention(x))\n",
    "        return p\n",
    "        \n",
    "    def forward(self, x):\n",
    "        x = x*self.attn(x)\n",
    "        x = self.out(x)\n",
    "        return x"
   ]
  },
  {
   "cell_type": "code",
   "execution_count": 21,
   "metadata": {},
   "outputs": [],
   "source": [
    "model = Net(ndim=64)"
   ]
  },
  {
   "cell_type": "code",
   "execution_count": 22,
   "metadata": {},
   "outputs": [],
   "source": [
    "X, y = generate_data(1000, dim=64, attention_col=23)"
   ]
  },
  {
   "cell_type": "code",
   "execution_count": 23,
   "metadata": {},
   "outputs": [
    {
     "data": {
      "text/plain": [
       "((1000, 64), (1000, 1))"
      ]
     },
     "execution_count": 23,
     "metadata": {},
     "output_type": "execute_result"
    }
   ],
   "source": [
    "X.shape, y.shape"
   ]
  },
  {
   "cell_type": "code",
   "execution_count": 24,
   "metadata": {},
   "outputs": [
    {
     "name": "stdout",
     "output_type": "stream",
     "text": [
      "[-3.51327284e-01 -1.60770962e-02 -5.02310258e-01 -2.43028474e-01\n",
      " -2.23963887e+00  8.03922707e-01  3.34863217e-01 -1.69212761e+00\n",
      "  1.33135665e+00  9.14656048e-02  1.22199107e-01  9.96164941e-01\n",
      " -1.61455588e+00  1.23238141e-01  1.06484500e+00 -3.12046710e-03\n",
      " -2.70933342e+00  1.01516772e+00  3.80776137e-01  5.93098676e-01\n",
      " -4.21546407e-02 -7.36868494e-01  3.77717144e-01  0.00000000e+00\n",
      "  6.22237087e-02  1.09936899e+00 -9.44895108e-01 -4.33109040e-01\n",
      " -1.75557397e+00 -5.31092622e-01  5.86706682e-01  3.88875111e-01\n",
      " -3.41363848e-01 -3.31755935e+00 -2.99943147e-02 -1.77001382e+00\n",
      "  1.44012272e-01 -2.36418059e+00 -7.19792530e-01  1.62204089e+00\n",
      " -3.08672118e-02  5.09580511e-01  9.69279604e-02  3.78593773e-01\n",
      " -1.36685614e+00  6.80696962e-01  6.03395614e-01  5.28201654e-01\n",
      " -1.19847291e+00  9.67979248e-01 -1.61109446e+00 -2.27064243e-01\n",
      " -2.09102149e+00 -3.15510108e+00  2.99780751e-01 -1.47466356e+00\n",
      "  3.56135878e-01  1.16491385e-01 -7.22895100e-01 -3.51997724e-01\n",
      " -5.08994665e-01  9.66998685e-01  1.43790380e+00  1.22957115e+00] [0]\n"
     ]
    }
   ],
   "source": [
    "print X[43], y[43]"
   ]
  },
  {
   "cell_type": "code",
   "execution_count": 25,
   "metadata": {},
   "outputs": [],
   "source": [
    "optimizer = torch.optim.Adam(model.parameters(), lr=0.001)\n",
    "lossfn = torch.nn.MSELoss()"
   ]
  },
  {
   "cell_type": "code",
   "execution_count": 26,
   "metadata": {},
   "outputs": [
    {
     "name": "stderr",
     "output_type": "stream",
     "text": [
      "/home/chintan/.local/lib/python2.7/site-packages/ipykernel_launcher.py:8: UserWarning: Implicit dimension choice for softmax has been deprecated. Change the call to include dim=X as an argument.\n",
      "  \n"
     ]
    },
    {
     "name": "stdout",
     "output_type": "stream",
     "text": [
      "0 tensor(1.9959)\n",
      "100 tensor(1.5667)\n",
      "200 tensor(0.9466)\n",
      "300 tensor(0.5200)\n",
      "400 tensor(0.2929)\n",
      "500 tensor(0.1814)\n",
      "600 tensor(0.1217)\n",
      "700 tensor(1.00000e-02 *\n",
      "       8.4505)\n",
      "800 tensor(1.00000e-02 *\n",
      "       6.3011)\n",
      "900 tensor(1.00000e-02 *\n",
      "       5.1153)\n",
      "1000 tensor(1.00000e-02 *\n",
      "       4.1359)\n",
      "1100 tensor(1.00000e-02 *\n",
      "       3.5292)\n",
      "1200 tensor(1.00000e-02 *\n",
      "       2.9860)\n",
      "1300 tensor(1.00000e-02 *\n",
      "       2.5273)\n",
      "1400 tensor(1.00000e-02 *\n",
      "       2.1778)\n",
      "1500 tensor(1.00000e-02 *\n",
      "       1.9525)\n",
      "1600 tensor(1.00000e-02 *\n",
      "       1.7567)\n",
      "1700 tensor(1.00000e-02 *\n",
      "       1.5904)\n",
      "1800 tensor(1.00000e-02 *\n",
      "       1.4544)\n",
      "1900 tensor(1.00000e-02 *\n",
      "       1.3472)\n"
     ]
    }
   ],
   "source": [
    "for epoch in range(2000):\n",
    "    pred = model(torch.FloatTensor(X))\n",
    "    \n",
    "    loss = lossfn(pred, torch.FloatTensor(y))\n",
    "    optimizer.zero_grad()\n",
    "    \n",
    "    loss.backward()\n",
    "    optimizer.step()\n",
    "    \n",
    "    if epoch % 100 == 0:\n",
    "        print epoch, loss"
   ]
  },
  {
   "cell_type": "code",
   "execution_count": 27,
   "metadata": {},
   "outputs": [
    {
     "name": "stdout",
     "output_type": "stream",
     "text": [
      "torch.Size([1000, 1])\n"
     ]
    },
    {
     "name": "stderr",
     "output_type": "stream",
     "text": [
      "/home/chintan/.local/lib/python2.7/site-packages/ipykernel_launcher.py:8: UserWarning: Implicit dimension choice for softmax has been deprecated. Change the call to include dim=X as an argument.\n",
      "  \n"
     ]
    }
   ],
   "source": [
    "o = model(torch.FloatTensor(X))\n",
    "print o.shape"
   ]
  },
  {
   "cell_type": "code",
   "execution_count": 28,
   "metadata": {
    "scrolled": true
   },
   "outputs": [
    {
     "name": "stdout",
     "output_type": "stream",
     "text": [
      "torch.Size([1000, 64])\n"
     ]
    },
    {
     "name": "stderr",
     "output_type": "stream",
     "text": [
      "/home/chintan/.local/lib/python2.7/site-packages/ipykernel_launcher.py:8: UserWarning: Implicit dimension choice for softmax has been deprecated. Change the call to include dim=X as an argument.\n",
      "  \n"
     ]
    }
   ],
   "source": [
    "a = model.attn(torch.FloatTensor(X))\n",
    "print a.shape"
   ]
  },
  {
   "cell_type": "code",
   "execution_count": 29,
   "metadata": {},
   "outputs": [],
   "source": [
    "k = a.data.numpy().mean(0)"
   ]
  },
  {
   "cell_type": "code",
   "execution_count": 30,
   "metadata": {},
   "outputs": [],
   "source": [
    "import pandas as pd"
   ]
  },
  {
   "cell_type": "code",
   "execution_count": 31,
   "metadata": {},
   "outputs": [
    {
     "name": "stdout",
     "output_type": "stream",
     "text": [
      "[0.01149311 0.00044024 0.00607758 0.00042295 0.01747844 0.00030109\n",
      " 0.01617922 0.02095122 0.01317969 0.03172801 0.0006441  0.01661894\n",
      " 0.01931428 0.00872901 0.01305096 0.01687161 0.01065745 0.00921943\n",
      " 0.01099476 0.02935861 0.00449838 0.0159381  0.00044294 0.1910523\n",
      " 0.0093847  0.02343404 0.00034287 0.02148915 0.00814906 0.00713448\n",
      " 0.00926923 0.01603286 0.02410168 0.02491062 0.0120519  0.02316255\n",
      " 0.00667348 0.01682622 0.01303557 0.01173842 0.01246741 0.0038257\n",
      " 0.01339226 0.00234268 0.01372037 0.02068666 0.01813798 0.01211858\n",
      " 0.01018618 0.01623093 0.0187995  0.00871858 0.01247436 0.00974988\n",
      " 0.01042268 0.01671041 0.01526215 0.01562919 0.01470475 0.00989981\n",
      " 0.00860289 0.01574116 0.0155275  0.01126883]\n"
     ]
    }
   ],
   "source": [
    "print k"
   ]
  },
  {
   "cell_type": "code",
   "execution_count": 34,
   "metadata": {},
   "outputs": [
    {
     "data": {
      "image/png": "[encoded data removed]",
      "text/plain": [
       "<Figure size 432x288 with 1 Axes>"
      ]
     },
     "metadata": {},
     "output_type": "display_data"
    }
   ],
   "source": [
    "N = 0\n",
    "ds = pd.DataFrame(k, columns=['attention (%)'])\n",
    "ds.plot(kind='bar', title='Attention Mechanism')\n",
    "plt.show()"
   ]
  },
  {
   "cell_type": "code",
   "execution_count": null,
   "metadata": {},
   "outputs": [],
   "source": []
  },
  {
   "cell_type": "code",
   "execution_count": null,
   "metadata": {},
   "outputs": [],
   "source": []
  }
 ],
 "metadata": {
  "kernelspec": {
   "display_name": "Python 2",
   "language": "python",
   "name": "python2"
  },
  "language_info": {
   "codemirror_mode": {
    "name": "ipython",
    "version": 2
   },
   "file_extension": ".py",
   "mimetype": "text/x-python",
   "name": "python",
   "nbconvert_exporter": "python",
   "pygments_lexer": "ipython2",
   "version": "2.7.12"
  }
 },
 "nbformat": 4,
 "nbformat_minor": 2
}
