{
 "cells": [
  {
   "cell_type": "code",
   "execution_count": 1,
   "metadata": {
    "collapsed": false
   },
   "outputs": [
    {
     "name": "stderr",
     "output_type": "stream",
     "text": [
      "Using TensorFlow backend.\n"
     ]
    }
   ],
   "source": [
    "import numpy as np\n",
    "import gensim\n",
    "from matplotlib import pyplot as plt\n",
    "%matplotlib inline\n",
    "import seaborn as sns"
   ]
  },
  {
   "cell_type": "code",
   "execution_count": 2,
   "metadata": {
    "collapsed": false
   },
   "outputs": [],
   "source": [
    "f = open('../../data/input.txt')\n",
    "ds = f.read()\n",
    "f.close()"
   ]
  },
  {
   "cell_type": "code",
   "execution_count": 5,
   "metadata": {
    "collapsed": true
   },
   "outputs": [],
   "source": [
    "syms = ['\"', ';', ':', ',', '?', '!', '&', '(', ')', '[', ']', \"'\", '$', '@', '~', '-', '#']\n",
    "syms_2 = ['\\n', '\\t', '_', '>', '<', '      ']"
   ]
  },
  {
   "cell_type": "code",
   "execution_count": 10,
   "metadata": {
    "collapsed": false,
    "scrolled": false
   },
   "outputs": [],
   "source": [
    "data = []\n",
    "for ix in ds.split('.')[:]:\n",
    "    val = ix\n",
    "    # print [val]\n",
    "    for s in syms:\n",
    "        val = val.strip().replace(s, '')\n",
    "    # print [val]\n",
    "    for s in syms_2:\n",
    "        val = val.strip().replace(s, ' ')\n",
    "    # print [val]\n",
    "    if len(val) < 500 and len(val) > 40:\n",
    "        data.append(val.lower())\n",
    "    # print '-'*50\n",
    "# print data"
   ]
  },
  {
   "cell_type": "code",
   "execution_count": 11,
   "metadata": {
    "collapsed": false
   },
   "outputs": [
    {
     "data": {
      "text/plain": [
       "26116"
      ]
     },
     "execution_count": 11,
     "metadata": {},
     "output_type": "execute_result"
    }
   ],
   "source": [
    "len(data)"
   ]
  },
  {
   "cell_type": "code",
   "execution_count": 14,
   "metadata": {
    "collapsed": false,
    "scrolled": true
   },
   "outputs": [
    {
     "name": "stdout",
     "output_type": "stream",
     "text": [
      "['but', 'its', 'gods', 'own', 'wind', 'none', 'the', 'less', 'and', 'a', 'cleaner', 'better', 'stronger', 'land', 'will', 'lie', 'in', 'the', 'sunshine', 'when', 'the', 'storm', 'has', 'cleared']\n",
      "------------------------------\n",
      "['start', 'her', 'up', 'watson', 'for', 'its', 'time', 'that', 'we', 'were', 'on', 'our', 'way']\n",
      "------------------------------\n",
      "['i', 'have', 'a', 'check', 'for', 'five', 'hundred', 'pounds', 'which', 'should', 'be', 'cashed', 'early', 'for', 'the', 'drawer', 'is', 'quite', 'capable', 'of', 'stopping', 'it', 'if', 'he', 'can']\n",
      "------------------------------\n",
      "['this', 'text', 'is', 'provided', 'to', 'you', 'asis', 'without', 'any', 'warranty']\n",
      "------------------------------\n",
      "['no', 'warranties', 'of', 'any', 'kind', 'expressed', 'or', 'implied', 'are', 'made', 'to', 'you', 'as', 'to', 'the', 'text', 'or', 'any', 'medium', 'it', 'may', 'be', 'on', 'including', 'but', 'not', 'limited', 'to', 'warranties', 'of', 'merchantablity', 'or', 'fitness', 'for', 'a', 'particular', 'purpose']\n",
      "------------------------------\n",
      "['pictures', 'for', 'the', 'adventure', 'of', 'the', 'dancing', 'men', 'the', 'adventure', 'of', 'the', 'priory', 'school', 'the', 'adventure', 'of', 'the', 'golden', 'pincenez', 'and', 'the', 'adventure', 'of', 'the', 'missing', 'threequarter', 'were', 'taken', 'from', 'a', '1911', 'edition', 'of', 'the', 'the', 'memoirs', 'of', 'sherlock', 'holmes', 'by', 'smith', 'elder', 'co']\n",
      "------------------------------\n",
      "['pictures', 'for', 'the', 'adventure', 'of', 'the', 'dancing', 'men', 'were', 'taken', 'from', 'a', '1915', 'edition', 'of', 'the', 'return', 'of', 'sherlock', 'holmes', 'by', 'smith', 'elder', 'co']\n",
      "------------------------------\n",
      "['this', 'text', 'was', 'formatted', 'from', 'various', 'free', 'ascii', 'and', 'html', 'variants']\n",
      "------------------------------\n",
      "['es', 'for', 'an', 'electronic', 'form', 'of', 'this', 'text', 'and', 'additional', 'information', 'about', 'it']\n",
      "------------------------------\n",
      "['this', 'text', 'comes', 'from', 'the', 'collections', 'version', '3']\n",
      "------------------------------\n"
     ]
    }
   ],
   "source": [
    "for ix in data[-10:]:\n",
    "    print ix.split()\n",
    "    print '-'*30"
   ]
  },
  {
   "cell_type": "code",
   "execution_count": null,
   "metadata": {
    "collapsed": false
   },
   "outputs": [],
   "source": [
    "# f = np.unique(data, return_counts=True)"
   ]
  },
  {
   "cell_type": "code",
   "execution_count": null,
   "metadata": {
    "collapsed": false
   },
   "outputs": [],
   "source": [
    "#plt.figure(0, figsize=(10, 10))\n",
    "#plt.plot(f[0], f[1])"
   ]
  },
  {
   "cell_type": "code",
   "execution_count": 15,
   "metadata": {
    "collapsed": false,
    "scrolled": false
   },
   "outputs": [],
   "source": [
    "train = []\n",
    "for ix in data[:]:\n",
    "    train.append(ix.lower().split())\n",
    "    #print '-'*80"
   ]
  },
  {
   "cell_type": "code",
   "execution_count": 17,
   "metadata": {
    "collapsed": false
   },
   "outputs": [
    {
     "data": {
      "text/plain": [
       "[['es',\n",
       "  'for',\n",
       "  'an',\n",
       "  'electronic',\n",
       "  'form',\n",
       "  'of',\n",
       "  'this',\n",
       "  'text',\n",
       "  'and',\n",
       "  'additional',\n",
       "  'information',\n",
       "  'about',\n",
       "  'it'],\n",
       " ['this', 'text', 'comes', 'from', 'the', 'collections', 'version', '3']]"
      ]
     },
     "execution_count": 17,
     "metadata": {},
     "output_type": "execute_result"
    }
   ],
   "source": [
    "train[-2:]"
   ]
  },
  {
   "cell_type": "code",
   "execution_count": 18,
   "metadata": {
    "collapsed": false
   },
   "outputs": [],
   "source": [
    "model = gensim.models.Word2Vec(train, workers=6, iter=20)"
   ]
  },
  {
   "cell_type": "code",
   "execution_count": 37,
   "metadata": {
    "collapsed": false,
    "scrolled": true
   },
   "outputs": [
    {
     "data": {
      "text/plain": [
       "[('murder', 0.7730459570884705),\n",
       " ('tragedy', 0.6857192516326904),\n",
       " ('motive', 0.6378545761108398),\n",
       " ('importance', 0.6345316171646118),\n",
       " ('result', 0.6313340067863464),\n",
       " ('society', 0.6220712065696716),\n",
       " ('event', 0.6059354543685913),\n",
       " ('existence', 0.6000816822052002),\n",
       " ('fact', 0.5840126276016235),\n",
       " ('death', 0.5818715691566467)]"
      ]
     },
     "execution_count": 37,
     "metadata": {},
     "output_type": "execute_result"
    }
   ],
   "source": [
    "model.similar_by_word('crime')"
   ]
  },
  {
   "cell_type": "code",
   "execution_count": null,
   "metadata": {
    "collapsed": false
   },
   "outputs": [],
   "source": []
  },
  {
   "cell_type": "code",
   "execution_count": 38,
   "metadata": {
    "collapsed": false
   },
   "outputs": [],
   "source": [
    "w = 'horse car engine travel'.split()\n",
    "# model.similarity?"
   ]
  },
  {
   "cell_type": "code",
   "execution_count": 39,
   "metadata": {
    "collapsed": false
   },
   "outputs": [],
   "source": [
    "m = np.zeros((len(w), len(w)))\n",
    "for ix in range(len(w)):\n",
    "    for wx in range(len(w)):\n",
    "        m[ix, wx] = model.similarity(w[ix], w[wx])"
   ]
  },
  {
   "cell_type": "code",
   "execution_count": 40,
   "metadata": {
    "collapsed": false
   },
   "outputs": [
    {
     "name": "stdout",
     "output_type": "stream",
     "text": [
      "['horse', 'car', 'engine', 'travel']\n"
     ]
    },
    {
     "data": {
      "text/plain": [
       "<matplotlib.axes._subplots.AxesSubplot at 0x7f63f9e36f10>"
      ]
     },
     "execution_count": 40,
     "metadata": {},
     "output_type": "execute_result"
    },
    {
     "data": {
      "image/png": "[encoded data removed]",
      "text/plain": [
       "<matplotlib.figure.Figure at 0x7f63f8138250>"
      ]
     },
     "metadata": {},
     "output_type": "display_data"
    }
   ],
   "source": [
    "print w\n",
    "sns.heatmap(m)"
   ]
  },
  {
   "cell_type": "code",
   "execution_count": 28,
   "metadata": {
    "collapsed": false
   },
   "outputs": [
    {
     "data": {
      "text/plain": [
       "array([1.69160921, 2.0118879 , 1.47430186, 1.78087001])"
      ]
     },
     "execution_count": 28,
     "metadata": {},
     "output_type": "execute_result"
    }
   ],
   "source": [
    "m.sum(axis=0)"
   ]
  },
  {
   "cell_type": "code",
   "execution_count": 41,
   "metadata": {
    "collapsed": true
   },
   "outputs": [],
   "source": [
    "import spacy"
   ]
  },
  {
   "cell_type": "code",
   "execution_count": 42,
   "metadata": {
    "collapsed": true
   },
   "outputs": [],
   "source": [
    "word_embeddings = spacy.load('en', vectors='glove.6B.300d.txt')"
   ]
  },
  {
   "cell_type": "code",
   "execution_count": 44,
   "metadata": {
    "collapsed": false
   },
   "outputs": [
    {
     "data": {
      "text/plain": [
       "(str, unicode)"
      ]
     },
     "execution_count": 44,
     "metadata": {},
     "output_type": "execute_result"
    }
   ],
   "source": [
    "type('a'), type(u'a')"
   ]
  },
  {
   "cell_type": "code",
   "execution_count": 46,
   "metadata": {
    "collapsed": false,
    "scrolled": true
   },
   "outputs": [
    {
     "name": "stdout",
     "output_type": "stream",
     "text": [
      "(300,)\n"
     ]
    }
   ],
   "source": [
    "q = word_embeddings(u'what')\n",
    "print q.vector.shape"
   ]
  },
  {
   "cell_type": "code",
   "execution_count": 47,
   "metadata": {
    "collapsed": false
   },
   "outputs": [],
   "source": [
    "from sklearn.metrics.pairwise import cosine_similarity"
   ]
  },
  {
   "cell_type": "code",
   "execution_count": 48,
   "metadata": {
    "collapsed": true
   },
   "outputs": [],
   "source": [
    "def sim(w1, w2):\n",
    "    v1 = word_embeddings(w1)\n",
    "    v2 = word_embeddings(w2)\n",
    "    \n",
    "    return cosine_similarity(v1.vector, v2.vector)"
   ]
  },
  {
   "cell_type": "code",
   "execution_count": 63,
   "metadata": {
    "collapsed": false
   },
   "outputs": [
    {
     "name": "stdout",
     "output_type": "stream",
     "text": [
      "[[0.81906694]]\n"
     ]
    },
    {
     "name": "stderr",
     "output_type": "stream",
     "text": [
      "/usr/local/lib/python2.7/dist-packages/sklearn/utils/validation.py:395: DeprecationWarning: Passing 1d arrays as data is deprecated in 0.17 and will raise ValueError in 0.19. Reshape your data either using X.reshape(-1, 1) if your data has a single feature or X.reshape(1, -1) if it contains a single sample.\n",
      "  DeprecationWarning)\n",
      "/usr/local/lib/python2.7/dist-packages/sklearn/utils/validation.py:395: DeprecationWarning: Passing 1d arrays as data is deprecated in 0.17 and will raise ValueError in 0.19. Reshape your data either using X.reshape(-1, 1) if your data has a single feature or X.reshape(1, -1) if it contains a single sample.\n",
      "  DeprecationWarning)\n"
     ]
    }
   ],
   "source": [
    "word1 = u'money'\n",
    "word2 = u'cash'\n",
    "print sim(word1, word2)"
   ]
  },
  {
   "cell_type": "code",
   "execution_count": null,
   "metadata": {
    "collapsed": true
   },
   "outputs": [],
   "source": []
  }
 ],
 "metadata": {
  "kernelspec": {
   "display_name": "Python 2",
   "language": "python",
   "name": "python2"
  },
  "language_info": {
   "codemirror_mode": {
    "name": "ipython",
    "version": 2
   },
   "file_extension": ".py",
   "mimetype": "text/x-python",
   "name": "python",
   "nbconvert_exporter": "python",
   "pygments_lexer": "ipython2",
   "version": "2.7.12"
  }
 },
 "nbformat": 4,
 "nbformat_minor": 2
}
